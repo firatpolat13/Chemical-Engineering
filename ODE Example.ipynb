{
 "cells": [
  {
   "cell_type": "markdown",
   "metadata": {},
   "source": [
    "# ODE\n",
    "\n",
    "An ordinary differential equation example. \n",
    "\n",
    "dy/dt = y*e^(-t)\n"
   ]
  },
  {
   "cell_type": "markdown",
   "metadata": {},
   "source": [
    "First, import libraries."
   ]
  },
  {
   "cell_type": "code",
   "execution_count": 1,
   "metadata": {},
   "outputs": [],
   "source": [
    "import numpy as np\n",
    "import matplotlib.pyplot as plt\n",
    "%matplotlib inline\n",
    "from scipy.integrate import odeint"
   ]
  },
  {
   "cell_type": "markdown",
   "metadata": {},
   "source": [
    "Then, create a function which is needed for scipy.integrate, odeint"
   ]
  },
  {
   "cell_type": "code",
   "execution_count": 2,
   "metadata": {},
   "outputs": [],
   "source": [
    "def ode(y,t):\n",
    "    dydt = y*(np.exp(-t))\n",
    "    return dydt"
   ]
  },
  {
   "cell_type": "markdown",
   "metadata": {},
   "source": [
    "Then, set your inial value and time intervals. Use odeint to solve ODE."
   ]
  },
  {
   "cell_type": "code",
   "execution_count": 3,
   "metadata": {},
   "outputs": [
    {
     "name": "stdout",
     "output_type": "stream",
     "text": [
      "[0.         0.12244898 0.24489796 0.36734694 0.48979592 0.6122449\n",
      " 0.73469388 0.85714286 0.97959184 1.10204082 1.2244898  1.34693878\n",
      " 1.46938776 1.59183673 1.71428571 1.83673469 1.95918367 2.08163265\n",
      " 2.20408163 2.32653061 2.44897959 2.57142857 2.69387755 2.81632653\n",
      " 2.93877551 3.06122449 3.18367347 3.30612245 3.42857143 3.55102041\n",
      " 3.67346939 3.79591837 3.91836735 4.04081633 4.16326531 4.28571429\n",
      " 4.40816327 4.53061224 4.65306122 4.7755102  4.89795918 5.02040816\n",
      " 5.14285714 5.26530612 5.3877551  5.51020408 5.63265306 5.75510204\n",
      " 5.87755102 6.        ]\n"
     ]
    },
    {
     "data": {
      "text/plain": [
       "[<matplotlib.lines.Line2D at 0x1f8977f3400>]"
      ]
     },
     "execution_count": 3,
     "metadata": {},
     "output_type": "execute_result"
    },
    {
     "data": {
      "image/png": "[encoded data removed]",
      "text/plain": [
       "<Figure size 432x288 with 1 Axes>"
      ]
     },
     "metadata": {},
     "output_type": "display_data"
    }
   ],
   "source": [
    "y0 = 1\n",
    "t = np.linspace(0,6)\n",
    "print(t)\n",
    "y = odeint(ode,y0,t)\n",
    "\n",
    "plt.plot(t,y)"
   ]
  },
  {
   "cell_type": "code",
   "execution_count": null,
   "metadata": {},
   "outputs": [],
   "source": []
  }
 ],
 "metadata": {
  "kernelspec": {
   "display_name": "Python 3",
   "language": "python",
   "name": "python3"
  },
  "language_info": {
   "codemirror_mode": {
    "name": "ipython",
    "version": 3
   },
   "file_extension": ".py",
   "mimetype": "text/x-python",
   "name": "python",
   "nbconvert_exporter": "python",
   "pygments_lexer": "ipython3",
   "version": "3.6.5"
  }
 },
 "nbformat": 4,
 "nbformat_minor": 2
}
