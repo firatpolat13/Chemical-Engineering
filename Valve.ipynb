{
 "cells": [
  {
   "cell_type": "code",
   "execution_count": null,
   "metadata": {},
   "outputs": [],
   "source": [
    "#! install numpy"
   ]
  },
  {
   "cell_type": "code",
   "execution_count": 1,
   "metadata": {},
   "outputs": [],
   "source": [
    "T = 403 #K\n",
    "P = 2.599 #bar\n",
    "R = 8.314*10**(-5)\n",
    "\n",
    "# Tc, Pc, w, Mw, Mole Fraction\n",
    "D = [[134.921,34.99, 0.066, 28.011, 0.1659], \n",
    "      [304.211, 73.83, 0.239, 44.011, 0.2622], \n",
    "      [33.201, 12.97, -0.216, 2.016, 0.3257],\n",
    "     [190.564, 45.99, 0.012, 16.042, 0.11396],\n",
    "     [647.096, 220.64, 0.345, 18.015, 0.1322]]\n",
    "\n",
    "comp_list = [\"CO\", \"CO2\", \"H\", \"CH4\", \"H2O\"]\n",
    "\n",
    "def CalcofVcPrTr(D):\n",
    "    for i in range(len(D)):\n",
    "        Vc = round(((R*D[i][0]/D[i][1])*(0.29-0.085*D[i][2])),9)\n",
    "        Pr = round((P / D[i][1]),3)\n",
    "        Tr = round((T / (D[i][0])),3)\n",
    "        D[i].append(Tr)\n",
    "        D[i].append(Pr)\n",
    "        D[i].append(Vc)\n",
    "    D1 = D\n",
    "        \n",
    "        \n",
    "    print(\"    Tc,       Pc,     w, Mw,    Mole Frac,       Tr,    Pr,     Vc\")\n",
    "    print(\" CO\" + str(D[0]))\n",
    "    print(\"CO2\" + str(D[1]))\n",
    "    print(\"  H\" + str(D[2]))\n",
    "    print(\"CH4\" + str(D[3]))\n",
    "    print(\"H2O\" + str(D[4]))\n",
    "    \n",
    "    return D1"
   ]
  },
  {
   "cell_type": "code",
   "execution_count": 2,
   "metadata": {},
   "outputs": [
    {
     "name": "stdout",
     "output_type": "stream",
     "text": [
      "    Tc,       Pc,     w, Mw,    Mole Frac,       Tr,    Pr,     Vc\n",
      " CO[134.921, 34.99, 0.066, 28.011, 0.1659, 2.987, 0.074, 9.1172e-05]\n",
      "CO2[304.211, 73.83, 0.239, 44.011, 0.2622, 1.325, 0.035, 9.2387e-05]\n",
      "  H[33.201, 12.97, -0.216, 2.016, 0.3257, 12.138, 0.2, 6.5627e-05]\n",
      "CH4[190.564, 45.99, 0.012, 16.042, 0.11396, 2.115, 0.057, 9.9553e-05]\n",
      "H2O[647.096, 220.64, 0.345, 18.015, 0.1322, 0.623, 0.012, 6.3561e-05]\n"
     ]
    }
   ],
   "source": [
    "D1 = CalcofVcPrTr(D)"
   ]
  },
  {
   "cell_type": "code",
   "execution_count": 3,
   "metadata": {},
   "outputs": [],
   "source": [
    "def CalcofAB(D1):\n",
    "    A = []\n",
    "    B = []\n",
    "    alpha = []\n",
    "    Bmix = 0\n",
    "    for i in range(len(D1)):\n",
    "        alpha1 = (1+(0.37464+1.54226*D1[i][2]-0.26992*(D1[i][2])**2)*(1-(D1[i][5])**0.5))**2\n",
    "        alpha.append(alpha1)\n",
    "        A1 = 0.45724*((D1[i][6])/((D1[i][5])**2))*alpha1\n",
    "        A.append(A1)\n",
    "        B1 = 0.07780*(D1[i][6]/D1[i][5])\n",
    "        B.append(B1)\n",
    "    for i in range(len(D1)):\n",
    "        Bmix = Bmix + B[i] * D1[i][4]\n",
    "        \n",
    "    return alpha, A, B, Bmix"
   ]
  },
  {
   "cell_type": "code",
   "execution_count": 4,
   "metadata": {},
   "outputs": [
    {
     "data": {
      "text/plain": [
       "([0.4275536002396698,\n",
       "  0.7921640041357334,\n",
       "  0.8614951428664885,\n",
       "  0.6747133460871166,\n",
       "  1.4025039150083243],\n",
       " [0.0016214219888510753,\n",
       "  0.007220971120703907,\n",
       "  0.0005347278189710965,\n",
       "  0.003931132020141569,\n",
       "  0.019826837678145345],\n",
       " [0.001927418814864412,\n",
       "  0.0020550943396226416,\n",
       "  0.0012819245345196903,\n",
       "  0.002096737588652482,\n",
       "  0.0014985553772070624],\n",
       " 0.001713180574597736)"
      ]
     },
     "execution_count": 4,
     "metadata": {},
     "output_type": "execute_result"
    }
   ],
   "source": [
    "CalcofAB(D1)"
   ]
  },
  {
   "cell_type": "code",
   "execution_count": 5,
   "metadata": {},
   "outputs": [],
   "source": [
    "def Calcofkij(D1):\n",
    "    kij = []\n",
    "    for i in range(len(D1)):\n",
    "        kij.append([])\n",
    "    for i in range(0,len(D1)):\n",
    "        for j in range(0,len(D1)):\n",
    "            k = 1-8*((D1[i][7]**(1/6)*D1[j][7]**(1/6))/((D1[i][7]**(1/3)+D1[j][7]**(1/3))))**3\n",
    "            kij[i].append(k)\n",
    "    #for i in range(len(D1)):\n",
    "            #kij[i].pop(i)\n",
    "    return kij"
   ]
  },
  {
   "cell_type": "code",
   "execution_count": 6,
   "metadata": {},
   "outputs": [
    {
     "data": {
      "text/plain": [
       "[[0.0,\n",
       "  7.302317076463005e-06,\n",
       "  0.004491114452059963,\n",
       "  0.00032218046734944217,\n",
       "  0.005404534837841535],\n",
       " [7.302317076463005e-06,\n",
       "  0.0,\n",
       "  0.004858993787058119,\n",
       "  0.00023249492454513465,\n",
       "  0.005807040490817483],\n",
       " [0.004491114452059963,\n",
       "  0.004858993787058119,\n",
       "  0.0,\n",
       "  0.007203179934014092,\n",
       "  4.2631221369382466e-05],\n",
       " [0.00032218046734944217,\n",
       "  0.00023249492454513465,\n",
       "  0.007203179934014092,\n",
       "  0.0,\n",
       "  0.008345623398354207],\n",
       " [0.005404534837841535,\n",
       "  0.005807040490817483,\n",
       "  4.2631221369382466e-05,\n",
       "  0.008345623398354207,\n",
       "  -6.661338147750939e-16]]"
      ]
     },
     "execution_count": 6,
     "metadata": {},
     "output_type": "execute_result"
    }
   ],
   "source": [
    "kij = Calcofkij(D1)\n",
    "kij"
   ]
  },
  {
   "cell_type": "code",
   "execution_count": 7,
   "metadata": {},
   "outputs": [],
   "source": [
    "def CalofAmix(D1, kij):\n",
    "    import numpy as np\n",
    "    A = []\n",
    "    B = []\n",
    "    alpha = []\n",
    "    Bmix = 0\n",
    "    for i in range(len(D1)):\n",
    "        alpha1 = (1+(0.37464+1.54226*D1[i][2]-0.26992*(D1[i][2])**2)*(1-(D1[i][5])**0.5))**2\n",
    "        alpha.append(alpha1)\n",
    "        A1 = 0.45724*((D1[i][6])/((D1[i][5])**2))*alpha1\n",
    "        A.append(A1)\n",
    "        B1 = 0.07780*(D1[i][6]/D1[i][5])\n",
    "        B.append(B1)\n",
    "    for i in range(len(D1)):\n",
    "        Bmix = Bmix + B[i] * D1[i][4]\n",
    "    Akj = []\n",
    "    for i in range(len(D1)):\n",
    "        Akj.append([])\n",
    "    for i in range(0,len(D1)):\n",
    "        for j in range(0,len(D1)):\n",
    "            a = (1-kij[i][j])*(A[i]*A[j])**0.5\n",
    "            Akj[i].append(a)\n",
    "    #for i in range(0,len(Akj)):\n",
    "        #Akj[i].insert(i, A[i])\n",
    "    Amix = []\n",
    "    for i in range(len(D1)):\n",
    "        Amix.append([])\n",
    "    for i in range(len(D1)):\n",
    "        for j in range(len(D1)):\n",
    "            b = D1[i][4]*D1[j][4]*Akj[i][j]\n",
    "            Amix[i].append(b)\n",
    "    amix_total = 0\n",
    "    for i in range(0,len(Amix)):\n",
    "        for j in range(0,len(Amix)):\n",
    "            amix_total = amix_total + Amix[i][j]\n",
    "    \n",
    "    p = -1 + Bmix\n",
    "    q = amix_total - (2 * Bmix) - (3 * Bmix**2)\n",
    "    r = (-amix_total * Bmix) + (Bmix**2) + (Bmix**3)\n",
    "    coeff = [1, p, q, r]\n",
    "    Z = np.roots(coeff)\n",
    "    print(\"Bmix: \", Bmix)\n",
    "    print(\"Amix: \", amix_total)\n",
    "    print(\"Zmix: \", Z.max())\n",
    "    return alpha, Bmix ,Amix,Z.max(), Akj"
   ]
  },
  {
   "cell_type": "code",
   "execution_count": 8,
   "metadata": {},
   "outputs": [
    {
     "name": "stdout",
     "output_type": "stream",
     "text": [
      "Bmix:  0.001713180574597736\n",
      "Amix:  0.003864021716115274\n",
      "Zmix:  (0.9978607399666882+0j)\n"
     ]
    }
   ],
   "source": [
    "D2 = CalofAmix(D1, kij)"
   ]
  },
  {
   "cell_type": "code",
   "execution_count": 16,
   "metadata": {},
   "outputs": [],
   "source": [
    "def CalofOmega(D1, D2):\n",
    "    gamma = []\n",
    "    for i in range(len(D1)):\n",
    "        gamma.append([])\n",
    "    for i in range(len(D1)):\n",
    "        g = (0.37464 + 1.54226*D1[i][2] - 0.26992*D1[i][2]**2)*((D1[i][5]/D2[0][i])**0.5)\n",
    "        gamma[i].append(g)\n",
    "    omegamix = 0\n",
    "    omegalist=[]\n",
    "    for i in range(len(D1)):\n",
    "        omegalist.append([])\n",
    "        for j in range(len(D1)):\n",
    "            ome = D1[i][4]*D1[j][4]*D2[4][i][j]\n",
    "            omegalist[i].append(ome)\n",
    "    for i in range(len(D1)):\n",
    "        for j in range(len(D1)):\n",
    "            omegamix += omegalist[i][j]\n",
    "    print(\"Omegamix: \", omegamix)\n",
    "    return omegalist"
   ]
  },
  {
   "cell_type": "code",
   "execution_count": 17,
   "metadata": {},
   "outputs": [
    {
     "name": "stdout",
     "output_type": "stream",
     "text": [
      "Omegamix:  0.003864021716115274\n"
     ]
    },
    {
     "data": {
      "text/plain": [
       "[[4.462608932897026e-05,\n",
       "  0.0001488407107633251,\n",
       "  5.008684820195022e-05,\n",
       "  4.7716186413826055e-05,\n",
       "  0.00012367988439522583],\n",
       " [0.0001488407107633251,\n",
       "  0.0004964333882218936,\n",
       "  0.00016699338252681406,\n",
       "  0.00015916250418580044,\n",
       "  0.0004123436922223002],\n",
       " [5.008684820195022e-05,\n",
       "  0.00016699338252681406,\n",
       "  5.672418905308521e-05,\n",
       "  5.342638389573784e-05,\n",
       "  0.00014019218792719722],\n",
       " [4.7716186413826055e-05,\n",
       "  0.00015916250418580044,\n",
       "  5.342638389573784e-05,\n",
       "  5.1053146099547384e-05,\n",
       "  0.00013189543627025295],\n",
       " [0.00012367988439522583,\n",
       "  0.0004123436922223002,\n",
       "  0.00014019218792719722,\n",
       "  0.00013189543627025295,\n",
       "  0.000346510469806918]]"
      ]
     },
     "execution_count": 17,
     "metadata": {},
     "output_type": "execute_result"
    }
   ],
   "source": [
    "CalofOmega(D1, D2)"
   ]
  },
  {
   "cell_type": "code",
   "execution_count": null,
   "metadata": {},
   "outputs": [],
   "source": []
  }
 ],
 "metadata": {
  "kernelspec": {
   "display_name": "Python 3",
   "language": "python",
   "name": "python3"
  },
  "language_info": {
   "codemirror_mode": {
    "name": "ipython",
    "version": 3
   },
   "file_extension": ".py",
   "mimetype": "text/x-python",
   "name": "python",
   "nbconvert_exporter": "python",
   "pygments_lexer": "ipython3",
   "version": "3.6.5"
  }
 },
 "nbformat": 4,
 "nbformat_minor": 2
}
