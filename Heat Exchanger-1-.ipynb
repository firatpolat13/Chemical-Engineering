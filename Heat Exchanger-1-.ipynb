{
 "cells": [
  {
   "cell_type": "code",
   "execution_count": 2,
   "metadata": {},
   "outputs": [],
   "source": [
    "from ht import *"
   ]
  },
  {
   "cell_type": "code",
   "execution_count": 3,
   "metadata": {},
   "outputs": [],
   "source": [
    "Cp_air = 1018 # J/kg/K\n",
    "Cp_steam = 1985 # J/kg/K\n",
    "m_steam = 2.94 # kg/s\n",
    "m_air = 1.843 # kg/s\n",
    "Thi = 250 # °C\n",
    "Tci = 15 # °C\n",
    "Tco = 200 # °C \n",
    "Q = Cp_air*m_air*(Tci-Tco)\n",
    "dTh = Q/(m_steam*Cp_steam)\n",
    "Tho = Thi + dTh\n",
    "dTlm = LMTD(Tci=Tci, Tco=Tco, Thi=Thi, Tho=Tho)\n",
    "Cmin = calc_Cmin(mh=m_steam, mc=m_air, Cph=Cp_steam, Cpc=Cp_air)\n",
    "Cmax = calc_Cmax(mh=m_steam, mc=m_air, Cph=Cp_steam, Cpc=Cp_air)\n",
    "Cr = calc_Cr(mh=m_steam, mc=m_air, Cph=Cp_steam, Cpc=Cp_air)\n",
    "effectiveness = -Q/Cmin/(Thi-Tci)\n",
    "NTU = NTU_from_effectiveness(effectiveness, Cr, subtype='S&T')\n",
    "UA = UA_from_NTU(NTU, Cmin)\n",
    "U = 68 # Assume this was calculated\n",
    "A = UA/U"
   ]
  },
  {
   "cell_type": "code",
   "execution_count": 4,
   "metadata": {},
   "outputs": [
    {
     "data": {
      "text/plain": [
       "(68.28044996779627, 0.7872340425531915, 190.52465086790383)"
      ]
     },
     "execution_count": 4,
     "metadata": {},
     "output_type": "execute_result"
    }
   ],
   "source": [
    "A, effectiveness, Tho"
   ]
  },
  {
   "cell_type": "code",
   "execution_count": 5,
   "metadata": {},
   "outputs": [
    {
     "data": {
      "text/plain": [
       "0.7478525230103166"
      ]
     },
     "execution_count": 5,
     "metadata": {},
     "output_type": "execute_result"
    }
   ],
   "source": [
    "F_LMTD_Fakheri(Tci=Tci, Tco=Tco, Thi=Thi, Tho=Tho, shells=1) #Ft"
   ]
  },
  {
   "cell_type": "code",
   "execution_count": 6,
   "metadata": {},
   "outputs": [
    {
     "data": {
      "text/plain": [
       "846.9026143140935"
      ]
     },
     "execution_count": 6,
     "metadata": {},
     "output_type": "execute_result"
    }
   ],
   "source": [
    "Nu_plate_Martin(Re=124582, Pr=0.9, plate_enlargement_factor=1.1) #number of plates"
   ]
  },
  {
   "cell_type": "code",
   "execution_count": 7,
   "metadata": {},
   "outputs": [
    {
     "name": "stdout",
     "output_type": "stream",
     "text": [
      "Area (meter^2):  68.28\n",
      "Delta Log Mean:  99.959\n",
      "Temperature of hot out(°C):  190.525\n",
      "Effectivness:  0.787\n"
     ]
    }
   ],
   "source": [
    "print(\"Area (meter^2): \", round(A, 3))\n",
    "print(\"Delta Log Mean: \", round(dTlm, 3))\n",
    "print(\"Temperature of hot out(°C): \", round(Tho, 3))\n",
    "print(\"Effectivness: \",round(effectiveness, 3))"
   ]
  },
  {
   "cell_type": "code",
   "execution_count": 8,
   "metadata": {},
   "outputs": [
    {
     "data": {
      "text/plain": [
       "190.52465086790383"
      ]
     },
     "execution_count": 8,
     "metadata": {},
     "output_type": "execute_result"
    }
   ],
   "source": [
    "Tho"
   ]
  },
  {
   "cell_type": "code",
   "execution_count": 9,
   "metadata": {},
   "outputs": [
    {
     "data": {
      "text/plain": [
       "(190.52465086790383, 1876.174, 5835.9, 0.3214883736870063)"
      ]
     },
     "execution_count": 9,
     "metadata": {},
     "output_type": "execute_result"
    }
   ],
   "source": [
    "Tho, Cmin, Cmax, Cr"
   ]
  },
  {
   "cell_type": "code",
   "execution_count": 10,
   "metadata": {},
   "outputs": [
    {
     "data": {
      "text/plain": [
       "(0.7872340425531915, 2.4747547923647524, 4643.070597810147, 68.28044996779627)"
      ]
     },
     "execution_count": 10,
     "metadata": {},
     "output_type": "execute_result"
    }
   ],
   "source": [
    "effectiveness, NTU, UA, A"
   ]
  },
  {
   "cell_type": "markdown",
   "metadata": {},
   "source": [
    "Reference:\n",
    "Caleb Bell (2016-2019). ht: Heat transfer component of Chemical Engineering Design Library (ChEDL)\n",
    "https://github.com/CalebBell/ht."
   ]
  },
  {
   "cell_type": "code",
   "execution_count": null,
   "metadata": {},
   "outputs": [],
   "source": []
  }
 ],
 "metadata": {
  "kernelspec": {
   "display_name": "Python 3",
   "language": "python",
   "name": "python3"
  },
  "language_info": {
   "codemirror_mode": {
    "name": "ipython",
    "version": 3
   },
   "file_extension": ".py",
   "mimetype": "text/x-python",
   "name": "python",
   "nbconvert_exporter": "python",
   "pygments_lexer": "ipython3",
   "version": "3.7.4"
  }
 },
 "nbformat": 4,
 "nbformat_minor": 2
}
